{
  "nbformat": 4,
  "nbformat_minor": 0,
  "metadata": {
    "colab": {
      "provenance": [],
      "authorship_tag": "ABX9TyNJChTZ8jo7zOrOFqQXhDkQ",
      "include_colab_link": true
    },
    "kernelspec": {
      "name": "python3",
      "display_name": "Python 3"
    },
    "language_info": {
      "name": "python"
    }
  },
  "cells": [
    {
      "cell_type": "markdown",
      "metadata": {
        "id": "view-in-github",
        "colab_type": "text"
      },
      "source": [
        "<a href=\"https://colab.research.google.com/github/2303A51087/ADM_2025/blob/main/files.ipynb\" target=\"_parent\"><img src=\"https://colab.research.google.com/assets/colab-badge.svg\" alt=\"Open In Colab\"/></a>"
      ]
    },
    {
      "cell_type": "code",
      "source": [
        "with open(\"students .csv\",\"r\",newline=\"\") as f:\n",
        "   for i in f:\n",
        "      print(i)"
      ],
      "metadata": {
        "colab": {
          "base_uri": "https://localhost:8080/"
        },
        "id": "_-Q1UTl1tEAK",
        "outputId": "024b3080-3cfe-49ae-e73e-1d5de5d0ff5b"
      },
      "execution_count": 14,
      "outputs": [
        {
          "output_type": "stream",
          "name": "stdout",
          "text": [
            "Name,Marks\r\n",
            "\n",
            "abhi,90\r\n",
            "\n",
            "Bob,85\r\n",
            "\n"
          ]
        }
      ]
    },
    {
      "cell_type": "code",
      "source": [
        "file =open(\"example.txt\",\"w\")\n",
        "\n",
        "file.write(\"Hello,Btech Students ! \\n\")\n",
        "file.write(\"This is file handling in Python. \\n\")\n",
        "file.write(\"SR University\")\n",
        "\n",
        "file.close()\n",
        "\n",
        "print(\"Data Written Successfully !\")"
      ],
      "metadata": {
        "colab": {
          "base_uri": "https://localhost:8080/"
        },
        "id": "luw5mlW6tb3P",
        "outputId": "672b26fd-9e65-4fdc-8575-4bbced99e1c2"
      },
      "execution_count": 15,
      "outputs": [
        {
          "output_type": "stream",
          "name": "stdout",
          "text": [
            "Data Written Successfully !\n"
          ]
        }
      ]
    },
    {
      "cell_type": "code",
      "source": [
        "file=open(\"example.txt\",\"r\")\n",
        "abhi=file.read()\n",
        "print(\"File Content:\\n\",abhi)\n",
        "file.close()"
      ],
      "metadata": {
        "colab": {
          "base_uri": "https://localhost:8080/"
        },
        "id": "eFIqwGADuhU9",
        "outputId": "a3ec8a01-f661-4eff-c4e9-00579604fae2"
      },
      "execution_count": 17,
      "outputs": [
        {
          "output_type": "stream",
          "name": "stdout",
          "text": [
            "File Content:\n",
            " Hello,Btech Students ! \n",
            "This is file handling in Python. \n",
            "SR University\n"
          ]
        }
      ]
    },
    {
      "cell_type": "code",
      "source": [
        "file=open(\"example.txt\",\"r\")\n",
        "line1=file.readline()\n",
        "print(\"first line :\",line1)\n",
        "\n",
        "line2=file.readline()\n",
        "print(\"Second line :\",line2)\n",
        "\n",
        "line3=file.readline()\n",
        "print(\"Third line :\",line3)\n",
        "\n",
        "file.close()"
      ],
      "metadata": {
        "colab": {
          "base_uri": "https://localhost:8080/"
        },
        "id": "kbca5inMvW8f",
        "outputId": "77d17893-5224-4cf5-c2aa-70120683def3"
      },
      "execution_count": 20,
      "outputs": [
        {
          "output_type": "stream",
          "name": "stdout",
          "text": [
            "first line : Hello,Btech Students ! \n",
            "\n",
            "Second line : This is file handling in Python. \n",
            "\n",
            "Third line : SR University\n"
          ]
        }
      ]
    },
    {
      "cell_type": "code",
      "source": [
        "file=open(\"example.txt\",\"r\")\n",
        "lines=file.readlines()\n",
        "print(\"All lines as a list :\\n\",lines)\n",
        "file.close()"
      ],
      "metadata": {
        "colab": {
          "base_uri": "https://localhost:8080/"
        },
        "id": "R4FNEh1twEYi",
        "outputId": "447b18f4-d709-4951-a0ce-3205d72190d0"
      },
      "execution_count": 24,
      "outputs": [
        {
          "output_type": "stream",
          "name": "stdout",
          "text": [
            "All lines as a list :\n",
            " ['Hello,Btech Students ! \\n', 'This is file handling in Python. \\n', 'SR University']\n"
          ]
        }
      ]
    },
    {
      "cell_type": "code",
      "source": [
        "file=open(\"example.txt\",\"a\")\n",
        "file.write(\"Appending new data ...\\n\")\n",
        "file.close()"
      ],
      "metadata": {
        "id": "dkaR8Lwwwzia"
      },
      "execution_count": 26,
      "outputs": []
    },
    {
      "cell_type": "code",
      "source": [
        "with open(\"example.txt\",\"r\") as file:\n",
        "   data=file.read()\n",
        "   print(data)\n",
        "\n",
        "   file.close()"
      ],
      "metadata": {
        "colab": {
          "base_uri": "https://localhost:8080/"
        },
        "id": "FYtLauDTxnEA",
        "outputId": "b4772a44-9ff8-46cc-b287-53a9bc8860f6"
      },
      "execution_count": 30,
      "outputs": [
        {
          "output_type": "stream",
          "name": "stdout",
          "text": [
            "Hello,Btech Students ! \n",
            "This is file handling in Python. \n",
            "SR UniversityAppending new data ...\n",
            "\n"
          ]
        }
      ]
    },
    {
      "cell_type": "code",
      "source": [
        "import csv\n",
        "\n",
        "with open(\"students .csv\",\"w\",newline=\"\") as f:\n",
        "   w=csv.writer(f)\n",
        "   w.writerow([\"Name\",\"Marks\",\"Course\"])\n",
        "   w.writerow([\"Abhi\",90,\"CSE\"])\n",
        "   w.writerow([\"Ram\",85,\"AIML\"])"
      ],
      "metadata": {
        "id": "3dgUn7Oryokt"
      },
      "execution_count": 32,
      "outputs": []
    },
    {
      "cell_type": "code",
      "source": [
        "import csv\n",
        "\n",
        "with open(\"students .csv\",\"r\") as f:\n",
        "  r=csv.reader(f)\n",
        "  for i in f:\n",
        "    print(i)"
      ],
      "metadata": {
        "colab": {
          "base_uri": "https://localhost:8080/"
        },
        "id": "WeiD8NjWzjTQ",
        "outputId": "62cdb55d-ce42-4ee6-f737-19a05b390ee9"
      },
      "execution_count": 36,
      "outputs": [
        {
          "output_type": "stream",
          "name": "stdout",
          "text": [
            "Name,Marks,Course\n",
            "\n",
            "Abhi,90,CSE\n",
            "\n",
            "Ram,85,AIML\n",
            "\n"
          ]
        }
      ]
    }
  ]
}